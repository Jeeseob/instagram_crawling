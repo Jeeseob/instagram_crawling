{
 "cells": [
  {
   "cell_type": "code",
   "execution_count": 2,
   "id": "aadbb3df",
   "metadata": {
    "scrolled": true
   },
   "outputs": [
    {
     "name": "stdout",
     "output_type": "stream",
     "text": [
      "Collecting xmltodict\n",
      "  Downloading xmltodict-0.12.0-py2.py3-none-any.whl (9.2 kB)\n",
      "Installing collected packages: xmltodict\n",
      "Successfully installed xmltodict-0.12.0\n",
      "Note: you may need to restart the kernel to use updated packages.\n"
     ]
    }
   ],
   "source": [
    "pip install xmltodict"
   ]
  },
  {
   "cell_type": "code",
   "execution_count": 1,
   "id": "1c80a7aa",
   "metadata": {},
   "outputs": [],
   "source": [
    "from urllib.request import urlopen\n",
    "from urllib.parse import urlencode, unquote, quote_plus\n",
    "import urllib\n",
    "import requests\n",
    "import json\n",
    "from xml.etree.ElementTree import parse\n",
    "\n",
    "import pandas as pd\n",
    "import xmltodict\n",
    "from csv import writer\n"
   ]
  },
  {
   "cell_type": "code",
   "execution_count": 2,
   "id": "760575ab",
   "metadata": {},
   "outputs": [],
   "source": [
    "def make_file(file_name):\n",
    "    #try:\n",
    "        data_df = pd.DataFrame(columns=['naver_ID','visitorCNT'])\n",
    "        print(data_df)\n",
    "        data_df.to_csv(\"{}.csv\".format(file_name), index=False, encoding='UTF-8')\n",
    "        print('make file success')\n",
    "    #except:\n",
    "        print(\"fail to make data file\")"
   ]
  },
  {
   "cell_type": "code",
   "execution_count": 3,
   "id": "f8302ae3",
   "metadata": {},
   "outputs": [],
   "source": [
    "def saved_data(file_name, cntData):\n",
    "    with open(file_name+'.csv', 'a', newline='', encoding = 'UTF-8') as f_object:  \n",
    "        writer_object= writer(f_object)\n",
    "        writer_object.writerow(cntData)  \n",
    "        f_object.close()"
   ]
  },
  {
   "cell_type": "code",
   "execution_count": 6,
   "id": "97512e87",
   "metadata": {},
   "outputs": [
    {
     "name": "stdout",
     "output_type": "stream",
     "text": [
      "Empty DataFrame\n",
      "Columns: [naver_ID, visitorCNT]\n",
      "Index: []\n",
      "make file success\n",
      "fail to make data file\n",
      "<class 'str'>\n",
      "<class 'str'>\n",
      "<class 'str'>\n",
      "<class 'str'>\n",
      "<class 'str'>\n",
      "<class 'str'>\n",
      "<class 'str'>\n",
      "<class 'str'>\n",
      "<class 'str'>\n",
      "<class 'str'>\n",
      "<class 'str'>\n",
      "<class 'str'>\n",
      "<class 'str'>\n",
      "<class 'str'>\n",
      "<class 'str'>\n",
      "<class 'str'>\n",
      "<class 'str'>\n",
      "<class 'str'>\n"
     ]
    }
   ],
   "source": [
    "\n",
    "\n",
    "# 데이터를 받고자하는 사이트의 포멧에 맞게 url을 수정하고 보내는 코드\n",
    "\n",
    "\n",
    "file_name = 'test_data'\n",
    "\n",
    "url= 'http://blog.naver.com/NVisitorgp4Ajax.nhn?blogId='\n",
    "\n",
    "    \n",
    "datas = pd.read_excel('testids.xlsx')\n",
    "\n",
    "make_file(file_name)\n",
    "\n",
    "\n",
    "\n",
    "for i in range(len(datas['ID'])):\n",
    "    queryParams = datas['ID'][i]\n",
    "    request = urllib.request.Request(url + unquote(queryParams))\n",
    "\n",
    "\n",
    "    response_body = urlopen(request, timeout=60).read() # get bytes data\n",
    "\n",
    "\n",
    "    decode_data = response_body.decode('utf-8')\n",
    "    print(type(decode_data))\n",
    "\n",
    "    xml_parse = xmltodict.parse(decode_data)     # string인 xml 파싱\n",
    "    xml_dict = json.loads(json.dumps(xml_parse))\n",
    "\n",
    "    cnt_data = [datas['ID'][i], xml_dict['visitorcnts']['visitorcnt'][0]['@cnt']]\n",
    "    saved_data(file_name, cnt_data)"
   ]
  },
  {
   "cell_type": "code",
   "execution_count": 24,
   "id": "24473958",
   "metadata": {},
   "outputs": [
    {
     "name": "stdout",
     "output_type": "stream",
     "text": [
      "           ID\n",
      "0   juice3202\n",
      "1   juice3202\n",
      "2   juice3202\n",
      "3   juice3202\n",
      "4   juice3202\n",
      "5   juice3202\n",
      "6   juice3202\n",
      "7   juice3202\n",
      "8   juice3202\n",
      "9   juice3202\n",
      "10  juice3202\n",
      "<class 'pandas.core.frame.DataFrame'>\n",
      "0     juice3202\n",
      "1     juice3202\n",
      "2     juice3202\n",
      "3     juice3202\n",
      "4     juice3202\n",
      "5     juice3202\n",
      "6     juice3202\n",
      "7     juice3202\n",
      "8     juice3202\n",
      "9     juice3202\n",
      "10    juice3202\n",
      "Name: ID, dtype: object\n",
      "11\n"
     ]
    }
   ],
   "source": [
    "datas = pd.read_excel('testids.xlsx',header=0)\n",
    "print(datas)\n",
    "print(type(datas))\n",
    "print(datas['ID'])\n",
    "print(len(datas['ID']))"
   ]
  },
  {
   "cell_type": "code",
   "execution_count": null,
   "id": "fbb06d72",
   "metadata": {},
   "outputs": [],
   "source": []
  }
 ],
 "metadata": {
  "kernelspec": {
   "display_name": "Python 3",
   "language": "python",
   "name": "python3"
  },
  "language_info": {
   "codemirror_mode": {
    "name": "ipython",
    "version": 3
   },
   "file_extension": ".py",
   "mimetype": "text/x-python",
   "name": "python",
   "nbconvert_exporter": "python",
   "pygments_lexer": "ipython3",
   "version": "3.9.4"
  }
 },
 "nbformat": 4,
 "nbformat_minor": 5
}
